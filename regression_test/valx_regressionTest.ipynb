{
 "cells": [
  {
   "cell_type": "code",
   "execution_count": 1,
   "id": "01584672-a28c-48a0-ba6e-9fcf11d72356",
   "metadata": {},
   "outputs": [],
   "source": [
    "import pandas as pd\n",
    "\n",
    "# Read the original CSV file into a pandas DataFrame\n",
    "original_df = pd.read_csv('valx_medicalNer_dataset_exp_All.csv', header=None)\n",
    "\n",
    "# Filter out 100 rows (adjust the number as needed)\n",
    "filtered_df = original_df.head(100)\n",
    "\n",
    "# Save the filtered data to a new CSV file\n",
    "filtered_df.to_csv('Valx_expected_output.csv', header=False, index=False)\n"
   ]
  },
  {
   "cell_type": "code",
   "execution_count": 6,
   "id": "6f9fd324-1797-4961-acf4-2f00c9c8d2ee",
   "metadata": {},
   "outputs": [],
   "source": [
    "import pandas as pd\n",
    "\n",
    "# Read the filtered CSV file into a pandas DataFrame\n",
    "filtered_df = pd.read_csv('Valx_expected_output.csv', header=None)\n",
    "\n",
    "# Read the CSV file with the last column to append\n",
    "last_column_df = pd.read_csv('valx_medicalNer_dataset_exp_All.csv', header=None)\n",
    "\n",
    "# Append the last column to the filtered DataFrame\n",
    "filtered_df[5] = last_column_df[4]\n",
    "\n",
    "# Compare the last two columns and create a mask for rows with different values\n",
    "mask = filtered_df[4] != filtered_df[5]\n",
    "\n",
    "# Create a new DataFrame containing only rows with different values in the last two columns\n",
    "different_values_df = filtered_df[mask]\n",
    "\n",
    "# Save the DataFrame to a new CSV file\n",
    "different_values_df.to_csv('valx_different.csv', header=False, index=False)\n"
   ]
  },
  {
   "cell_type": "code",
   "execution_count": null,
   "id": "86a08115-baf8-4052-b518-405c2814e3b6",
   "metadata": {},
   "outputs": [],
   "source": []
  }
 ],
 "metadata": {
  "kernelspec": {
   "display_name": "Python 3 (ipykernel)",
   "language": "python",
   "name": "python3"
  },
  "language_info": {
   "codemirror_mode": {
    "name": "ipython",
    "version": 3
   },
   "file_extension": ".py",
   "mimetype": "text/x-python",
   "name": "python",
   "nbconvert_exporter": "python",
   "pygments_lexer": "ipython3",
   "version": "3.10.12"
  }
 },
 "nbformat": 4,
 "nbformat_minor": 5
}
